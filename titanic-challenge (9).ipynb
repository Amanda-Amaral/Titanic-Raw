{
 "cells": [
  {
   "cell_type": "code",
   "execution_count": 1,
   "id": "5730ef39",
   "metadata": {
    "_cell_guid": "b1076dfc-b9ad-4769-8c92-a6c4dae69d19",
    "_uuid": "8f2839f25d086af736a60e9eeb907d3b93b6e0e5",
    "execution": {
     "iopub.execute_input": "2021-09-02T03:53:36.021434Z",
     "iopub.status.busy": "2021-09-02T03:53:36.020229Z",
     "iopub.status.idle": "2021-09-02T03:53:37.601647Z",
     "shell.execute_reply": "2021-09-02T03:53:37.602185Z",
     "shell.execute_reply.started": "2021-09-02T03:47:27.780233Z"
    },
    "papermill": {
     "duration": 1.621565,
     "end_time": "2021-09-02T03:53:37.602507",
     "exception": false,
     "start_time": "2021-09-02T03:53:35.980942",
     "status": "completed"
    },
    "tags": []
   },
   "outputs": [
    {
     "name": "stdout",
     "output_type": "stream",
     "text": [
      "/kaggle/input/titanic/train.csv\n",
      "/kaggle/input/titanic/test.csv\n",
      "/kaggle/input/titanic/gender_submission.csv\n"
     ]
    }
   ],
   "source": [
    "# This Python 3 environment comes with many helpful analytics libraries installed\n",
    "# It is defined by the kaggle/python Docker image: https://github.com/kaggle/docker-python\n",
    "# For example, here's several helpful packages to load\n",
    "\n",
    "import numpy as np # linear algebra\n",
    "import pandas as pd # data processing, CSV file I/O (e.g. pd.read_csv)\n",
    "from sklearn.ensemble import RandomForestClassifier\n",
    "import matplotlib.pyplot as plt\n",
    "import seaborn as sns\n",
    "from sklearn.model_selection import train_test_split, GridSearchCV\n",
    "from sklearn.preprocessing import StandardScaler\n",
    "from sklearn.linear_model import LinearRegression, Lasso\n",
    "from sklearn.neighbors import KNeighborsRegressor\n",
    "from sklearn.ensemble import RandomForestRegressor\n",
    "from sklearn.metrics import r2_score\n",
    "import matplotlib.pyplot as plt\n",
    "from yellowbrick.regressor import ResidualsPlot\n",
    "sns.set()\n",
    "\n",
    "# Input data files are available in the read-only \"../input/\" directory\n",
    "# For example, running this (by clicking run or pressing Shift+Enter) will list all files under the input directory\n",
    "\n",
    "import os\n",
    "for dirname, _, filenames in os.walk('/kaggle/input'):\n",
    "    for filename in filenames:\n",
    "        print(os.path.join(dirname, filename))\n",
    "\n",
    "# You can write up to 20GB to the current directory (/kaggle/working/) that gets preserved as output when you create a version using \"Save & Run All\" \n",
    "# You can also write temporary files to /kaggle/temp/, but they won't be saved outside of the current session"
   ]
  },
  {
   "cell_type": "code",
   "execution_count": 2,
   "id": "cd0b70bb",
   "metadata": {
    "execution": {
     "iopub.execute_input": "2021-09-02T03:53:37.675385Z",
     "iopub.status.busy": "2021-09-02T03:53:37.674728Z",
     "iopub.status.idle": "2021-09-02T03:53:37.719879Z",
     "shell.execute_reply": "2021-09-02T03:53:37.720389Z",
     "shell.execute_reply.started": "2021-09-02T03:47:27.928115Z"
    },
    "papermill": {
     "duration": 0.08243,
     "end_time": "2021-09-02T03:53:37.720565",
     "exception": false,
     "start_time": "2021-09-02T03:53:37.638135",
     "status": "completed"
    },
    "tags": []
   },
   "outputs": [
    {
     "data": {
      "text/html": [
       "<div>\n",
       "<style scoped>\n",
       "    .dataframe tbody tr th:only-of-type {\n",
       "        vertical-align: middle;\n",
       "    }\n",
       "\n",
       "    .dataframe tbody tr th {\n",
       "        vertical-align: top;\n",
       "    }\n",
       "\n",
       "    .dataframe thead th {\n",
       "        text-align: right;\n",
       "    }\n",
       "</style>\n",
       "<table border=\"1\" class=\"dataframe\">\n",
       "  <thead>\n",
       "    <tr style=\"text-align: right;\">\n",
       "      <th></th>\n",
       "      <th>PassengerId</th>\n",
       "      <th>Survived</th>\n",
       "      <th>Pclass</th>\n",
       "      <th>Name</th>\n",
       "      <th>Sex</th>\n",
       "      <th>Age</th>\n",
       "      <th>SibSp</th>\n",
       "      <th>Parch</th>\n",
       "      <th>Ticket</th>\n",
       "      <th>Fare</th>\n",
       "      <th>Cabin</th>\n",
       "      <th>Embarked</th>\n",
       "    </tr>\n",
       "  </thead>\n",
       "  <tbody>\n",
       "    <tr>\n",
       "      <th>0</th>\n",
       "      <td>1</td>\n",
       "      <td>0</td>\n",
       "      <td>3</td>\n",
       "      <td>Braund, Mr. Owen Harris</td>\n",
       "      <td>male</td>\n",
       "      <td>22.0</td>\n",
       "      <td>1</td>\n",
       "      <td>0</td>\n",
       "      <td>A/5 21171</td>\n",
       "      <td>7.2500</td>\n",
       "      <td>NaN</td>\n",
       "      <td>S</td>\n",
       "    </tr>\n",
       "    <tr>\n",
       "      <th>1</th>\n",
       "      <td>2</td>\n",
       "      <td>1</td>\n",
       "      <td>1</td>\n",
       "      <td>Cumings, Mrs. John Bradley (Florence Briggs Th...</td>\n",
       "      <td>female</td>\n",
       "      <td>38.0</td>\n",
       "      <td>1</td>\n",
       "      <td>0</td>\n",
       "      <td>PC 17599</td>\n",
       "      <td>71.2833</td>\n",
       "      <td>C85</td>\n",
       "      <td>C</td>\n",
       "    </tr>\n",
       "    <tr>\n",
       "      <th>2</th>\n",
       "      <td>3</td>\n",
       "      <td>1</td>\n",
       "      <td>3</td>\n",
       "      <td>Heikkinen, Miss. Laina</td>\n",
       "      <td>female</td>\n",
       "      <td>26.0</td>\n",
       "      <td>0</td>\n",
       "      <td>0</td>\n",
       "      <td>STON/O2. 3101282</td>\n",
       "      <td>7.9250</td>\n",
       "      <td>NaN</td>\n",
       "      <td>S</td>\n",
       "    </tr>\n",
       "    <tr>\n",
       "      <th>3</th>\n",
       "      <td>4</td>\n",
       "      <td>1</td>\n",
       "      <td>1</td>\n",
       "      <td>Futrelle, Mrs. Jacques Heath (Lily May Peel)</td>\n",
       "      <td>female</td>\n",
       "      <td>35.0</td>\n",
       "      <td>1</td>\n",
       "      <td>0</td>\n",
       "      <td>113803</td>\n",
       "      <td>53.1000</td>\n",
       "      <td>C123</td>\n",
       "      <td>S</td>\n",
       "    </tr>\n",
       "    <tr>\n",
       "      <th>4</th>\n",
       "      <td>5</td>\n",
       "      <td>0</td>\n",
       "      <td>3</td>\n",
       "      <td>Allen, Mr. William Henry</td>\n",
       "      <td>male</td>\n",
       "      <td>35.0</td>\n",
       "      <td>0</td>\n",
       "      <td>0</td>\n",
       "      <td>373450</td>\n",
       "      <td>8.0500</td>\n",
       "      <td>NaN</td>\n",
       "      <td>S</td>\n",
       "    </tr>\n",
       "  </tbody>\n",
       "</table>\n",
       "</div>"
      ],
      "text/plain": [
       "   PassengerId  Survived  Pclass  \\\n",
       "0            1         0       3   \n",
       "1            2         1       1   \n",
       "2            3         1       3   \n",
       "3            4         1       1   \n",
       "4            5         0       3   \n",
       "\n",
       "                                                Name     Sex   Age  SibSp  \\\n",
       "0                            Braund, Mr. Owen Harris    male  22.0      1   \n",
       "1  Cumings, Mrs. John Bradley (Florence Briggs Th...  female  38.0      1   \n",
       "2                             Heikkinen, Miss. Laina  female  26.0      0   \n",
       "3       Futrelle, Mrs. Jacques Heath (Lily May Peel)  female  35.0      1   \n",
       "4                           Allen, Mr. William Henry    male  35.0      0   \n",
       "\n",
       "   Parch            Ticket     Fare Cabin Embarked  \n",
       "0      0         A/5 21171   7.2500   NaN        S  \n",
       "1      0          PC 17599  71.2833   C85        C  \n",
       "2      0  STON/O2. 3101282   7.9250   NaN        S  \n",
       "3      0            113803  53.1000  C123        S  \n",
       "4      0            373450   8.0500   NaN        S  "
      ]
     },
     "execution_count": 2,
     "metadata": {},
     "output_type": "execute_result"
    }
   ],
   "source": [
    "train_data = pd.read_csv(\"/kaggle/input/titanic/train.csv\")\n",
    "train_data.head()"
   ]
  },
  {
   "cell_type": "code",
   "execution_count": 3,
   "id": "7d9b00c9",
   "metadata": {
    "execution": {
     "iopub.execute_input": "2021-09-02T03:53:37.794010Z",
     "iopub.status.busy": "2021-09-02T03:53:37.793371Z",
     "iopub.status.idle": "2021-09-02T03:53:37.817008Z",
     "shell.execute_reply": "2021-09-02T03:53:37.817483Z",
     "shell.execute_reply.started": "2021-09-02T03:47:28.065848Z"
    },
    "papermill": {
     "duration": 0.061715,
     "end_time": "2021-09-02T03:53:37.817677",
     "exception": false,
     "start_time": "2021-09-02T03:53:37.755962",
     "status": "completed"
    },
    "tags": []
   },
   "outputs": [
    {
     "data": {
      "text/html": [
       "<div>\n",
       "<style scoped>\n",
       "    .dataframe tbody tr th:only-of-type {\n",
       "        vertical-align: middle;\n",
       "    }\n",
       "\n",
       "    .dataframe tbody tr th {\n",
       "        vertical-align: top;\n",
       "    }\n",
       "\n",
       "    .dataframe thead th {\n",
       "        text-align: right;\n",
       "    }\n",
       "</style>\n",
       "<table border=\"1\" class=\"dataframe\">\n",
       "  <thead>\n",
       "    <tr style=\"text-align: right;\">\n",
       "      <th></th>\n",
       "      <th>PassengerId</th>\n",
       "      <th>Pclass</th>\n",
       "      <th>Name</th>\n",
       "      <th>Sex</th>\n",
       "      <th>Age</th>\n",
       "      <th>SibSp</th>\n",
       "      <th>Parch</th>\n",
       "      <th>Ticket</th>\n",
       "      <th>Fare</th>\n",
       "      <th>Cabin</th>\n",
       "      <th>Embarked</th>\n",
       "    </tr>\n",
       "  </thead>\n",
       "  <tbody>\n",
       "    <tr>\n",
       "      <th>0</th>\n",
       "      <td>892</td>\n",
       "      <td>3</td>\n",
       "      <td>Kelly, Mr. James</td>\n",
       "      <td>male</td>\n",
       "      <td>34.5</td>\n",
       "      <td>0</td>\n",
       "      <td>0</td>\n",
       "      <td>330911</td>\n",
       "      <td>7.8292</td>\n",
       "      <td>NaN</td>\n",
       "      <td>Q</td>\n",
       "    </tr>\n",
       "    <tr>\n",
       "      <th>1</th>\n",
       "      <td>893</td>\n",
       "      <td>3</td>\n",
       "      <td>Wilkes, Mrs. James (Ellen Needs)</td>\n",
       "      <td>female</td>\n",
       "      <td>47.0</td>\n",
       "      <td>1</td>\n",
       "      <td>0</td>\n",
       "      <td>363272</td>\n",
       "      <td>7.0000</td>\n",
       "      <td>NaN</td>\n",
       "      <td>S</td>\n",
       "    </tr>\n",
       "    <tr>\n",
       "      <th>2</th>\n",
       "      <td>894</td>\n",
       "      <td>2</td>\n",
       "      <td>Myles, Mr. Thomas Francis</td>\n",
       "      <td>male</td>\n",
       "      <td>62.0</td>\n",
       "      <td>0</td>\n",
       "      <td>0</td>\n",
       "      <td>240276</td>\n",
       "      <td>9.6875</td>\n",
       "      <td>NaN</td>\n",
       "      <td>Q</td>\n",
       "    </tr>\n",
       "    <tr>\n",
       "      <th>3</th>\n",
       "      <td>895</td>\n",
       "      <td>3</td>\n",
       "      <td>Wirz, Mr. Albert</td>\n",
       "      <td>male</td>\n",
       "      <td>27.0</td>\n",
       "      <td>0</td>\n",
       "      <td>0</td>\n",
       "      <td>315154</td>\n",
       "      <td>8.6625</td>\n",
       "      <td>NaN</td>\n",
       "      <td>S</td>\n",
       "    </tr>\n",
       "    <tr>\n",
       "      <th>4</th>\n",
       "      <td>896</td>\n",
       "      <td>3</td>\n",
       "      <td>Hirvonen, Mrs. Alexander (Helga E Lindqvist)</td>\n",
       "      <td>female</td>\n",
       "      <td>22.0</td>\n",
       "      <td>1</td>\n",
       "      <td>1</td>\n",
       "      <td>3101298</td>\n",
       "      <td>12.2875</td>\n",
       "      <td>NaN</td>\n",
       "      <td>S</td>\n",
       "    </tr>\n",
       "  </tbody>\n",
       "</table>\n",
       "</div>"
      ],
      "text/plain": [
       "   PassengerId  Pclass                                          Name     Sex  \\\n",
       "0          892       3                              Kelly, Mr. James    male   \n",
       "1          893       3              Wilkes, Mrs. James (Ellen Needs)  female   \n",
       "2          894       2                     Myles, Mr. Thomas Francis    male   \n",
       "3          895       3                              Wirz, Mr. Albert    male   \n",
       "4          896       3  Hirvonen, Mrs. Alexander (Helga E Lindqvist)  female   \n",
       "\n",
       "    Age  SibSp  Parch   Ticket     Fare Cabin Embarked  \n",
       "0  34.5      0      0   330911   7.8292   NaN        Q  \n",
       "1  47.0      1      0   363272   7.0000   NaN        S  \n",
       "2  62.0      0      0   240276   9.6875   NaN        Q  \n",
       "3  27.0      0      0   315154   8.6625   NaN        S  \n",
       "4  22.0      1      1  3101298  12.2875   NaN        S  "
      ]
     },
     "execution_count": 3,
     "metadata": {},
     "output_type": "execute_result"
    }
   ],
   "source": [
    "test_data = pd.read_csv(\"/kaggle/input/titanic/test.csv\")\n",
    "test_data.head()"
   ]
  },
  {
   "cell_type": "code",
   "execution_count": 4,
   "id": "80f798be",
   "metadata": {
    "execution": {
     "iopub.execute_input": "2021-09-02T03:53:37.891720Z",
     "iopub.status.busy": "2021-09-02T03:53:37.891047Z",
     "iopub.status.idle": "2021-09-02T03:53:37.901166Z",
     "shell.execute_reply": "2021-09-02T03:53:37.900598Z",
     "shell.execute_reply.started": "2021-09-02T03:47:28.161594Z"
    },
    "papermill": {
     "duration": 0.047842,
     "end_time": "2021-09-02T03:53:37.901312",
     "exception": false,
     "start_time": "2021-09-02T03:53:37.853470",
     "status": "completed"
    },
    "tags": []
   },
   "outputs": [
    {
     "name": "stdout",
     "output_type": "stream",
     "text": [
      "% of women who survived: 0.7420382165605095\n"
     ]
    }
   ],
   "source": [
    "women = train_data.loc[train_data.Sex == 'female'][\"Survived\"]\n",
    "rate_women = sum(women)/len(women)\n",
    "\n",
    "print(\"% of women who survived:\", rate_women) #verificando quantas mulheres sobreviveram nos dados de treino"
   ]
  },
  {
   "cell_type": "code",
   "execution_count": 5,
   "id": "84474e9e",
   "metadata": {
    "execution": {
     "iopub.execute_input": "2021-09-02T03:53:37.992592Z",
     "iopub.status.busy": "2021-09-02T03:53:37.991752Z",
     "iopub.status.idle": "2021-09-02T03:53:37.995133Z",
     "shell.execute_reply": "2021-09-02T03:53:37.995644Z",
     "shell.execute_reply.started": "2021-09-02T03:47:28.253440Z"
    },
    "papermill": {
     "duration": 0.058862,
     "end_time": "2021-09-02T03:53:37.995818",
     "exception": false,
     "start_time": "2021-09-02T03:53:37.936956",
     "status": "completed"
    },
    "tags": []
   },
   "outputs": [
    {
     "name": "stdout",
     "output_type": "stream",
     "text": [
      "<class 'pandas.core.frame.DataFrame'>\n",
      "RangeIndex: 891 entries, 0 to 890\n",
      "Data columns (total 12 columns):\n",
      " #   Column       Non-Null Count  Dtype  \n",
      "---  ------       --------------  -----  \n",
      " 0   PassengerId  891 non-null    int64  \n",
      " 1   Survived     891 non-null    int64  \n",
      " 2   Pclass       891 non-null    int64  \n",
      " 3   Name         891 non-null    object \n",
      " 4   Sex          891 non-null    object \n",
      " 5   Age          714 non-null    float64\n",
      " 6   SibSp        891 non-null    int64  \n",
      " 7   Parch        891 non-null    int64  \n",
      " 8   Ticket       891 non-null    object \n",
      " 9   Fare         891 non-null    float64\n",
      " 10  Cabin        204 non-null    object \n",
      " 11  Embarked     889 non-null    object \n",
      "dtypes: float64(2), int64(5), object(5)\n",
      "memory usage: 83.7+ KB\n"
     ]
    }
   ],
   "source": [
    "train_data.info()"
   ]
  },
  {
   "cell_type": "code",
   "execution_count": 6,
   "id": "89069e99",
   "metadata": {
    "execution": {
     "iopub.execute_input": "2021-09-02T03:53:38.071871Z",
     "iopub.status.busy": "2021-09-02T03:53:38.070930Z",
     "iopub.status.idle": "2021-09-02T03:53:38.298345Z",
     "shell.execute_reply": "2021-09-02T03:53:38.297785Z",
     "shell.execute_reply.started": "2021-09-02T03:47:28.382323Z"
    },
    "papermill": {
     "duration": 0.26604,
     "end_time": "2021-09-02T03:53:38.298530",
     "exception": false,
     "start_time": "2021-09-02T03:53:38.032490",
     "status": "completed"
    },
    "tags": []
   },
   "outputs": [
    {
     "data": {
      "text/plain": [
       "<AxesSubplot:xlabel='Survived', ylabel='Age'>"
      ]
     },
     "execution_count": 6,
     "metadata": {},
     "output_type": "execute_result"
    },
    {
     "data": {
      "image/png": "[encoded data removed]",
      "text/plain": [
       "<Figure size 576x396 with 1 Axes>"
      ]
     },
     "metadata": {},
     "output_type": "display_data"
    }
   ],
   "source": [
    "sns.boxplot(data=train_data, x=\"Survived\", y=\"Age\") #exibindo grafico de sobreviventes por idade"
   ]
  },
  {
   "cell_type": "code",
   "execution_count": 7,
   "id": "cf2c8ff0",
   "metadata": {
    "execution": {
     "iopub.execute_input": "2021-09-02T03:53:38.391141Z",
     "iopub.status.busy": "2021-09-02T03:53:38.390255Z",
     "iopub.status.idle": "2021-09-02T03:53:38.394437Z",
     "shell.execute_reply": "2021-09-02T03:53:38.393898Z",
     "shell.execute_reply.started": "2021-09-02T03:47:28.571623Z"
    },
    "papermill": {
     "duration": 0.058997,
     "end_time": "2021-09-02T03:53:38.394583",
     "exception": false,
     "start_time": "2021-09-02T03:53:38.335586",
     "status": "completed"
    },
    "tags": []
   },
   "outputs": [
    {
     "data": {
      "text/html": [
       "<div>\n",
       "<style scoped>\n",
       "    .dataframe tbody tr th:only-of-type {\n",
       "        vertical-align: middle;\n",
       "    }\n",
       "\n",
       "    .dataframe tbody tr th {\n",
       "        vertical-align: top;\n",
       "    }\n",
       "\n",
       "    .dataframe thead tr th {\n",
       "        text-align: left;\n",
       "    }\n",
       "\n",
       "    .dataframe thead tr:last-of-type th {\n",
       "        text-align: right;\n",
       "    }\n",
       "</style>\n",
       "<table border=\"1\" class=\"dataframe\">\n",
       "  <thead>\n",
       "    <tr>\n",
       "      <th></th>\n",
       "      <th colspan=\"2\" halign=\"left\">Age</th>\n",
       "    </tr>\n",
       "    <tr>\n",
       "      <th></th>\n",
       "      <th>min</th>\n",
       "      <th>max</th>\n",
       "    </tr>\n",
       "    <tr>\n",
       "      <th>Survived</th>\n",
       "      <th></th>\n",
       "      <th></th>\n",
       "    </tr>\n",
       "  </thead>\n",
       "  <tbody>\n",
       "    <tr>\n",
       "      <th>0</th>\n",
       "      <td>1.00</td>\n",
       "      <td>74.0</td>\n",
       "    </tr>\n",
       "    <tr>\n",
       "      <th>1</th>\n",
       "      <td>0.42</td>\n",
       "      <td>80.0</td>\n",
       "    </tr>\n",
       "  </tbody>\n",
       "</table>\n",
       "</div>"
      ],
      "text/plain": [
       "           Age      \n",
       "           min   max\n",
       "Survived            \n",
       "0         1.00  74.0\n",
       "1         0.42  80.0"
      ]
     },
     "execution_count": 7,
     "metadata": {},
     "output_type": "execute_result"
    }
   ],
   "source": [
    "(train_data\n",
    " .groupby(\"Survived\")\n",
    " .agg({\"Age\": [\"min\", \"max\"]})) #descobrindo a idade mínima e máxima de quem sobreviveu e quem não"
   ]
  },
  {
   "cell_type": "code",
   "execution_count": 8,
   "id": "66942ead",
   "metadata": {
    "execution": {
     "iopub.execute_input": "2021-09-02T03:53:38.476423Z",
     "iopub.status.busy": "2021-09-02T03:53:38.474524Z",
     "iopub.status.idle": "2021-09-02T03:53:38.643767Z",
     "shell.execute_reply": "2021-09-02T03:53:38.643060Z",
     "shell.execute_reply.started": "2021-09-02T03:47:28.591576Z"
    },
    "papermill": {
     "duration": 0.212048,
     "end_time": "2021-09-02T03:53:38.643923",
     "exception": false,
     "start_time": "2021-09-02T03:53:38.431875",
     "status": "completed"
    },
    "tags": []
   },
   "outputs": [
    {
     "data": {
      "text/plain": [
       "<AxesSubplot:xlabel='Sex', ylabel='Survived'>"
      ]
     },
     "execution_count": 8,
     "metadata": {},
     "output_type": "execute_result"
    },
    {
     "data": {
      "image/png": "[encoded data removed]",
      "text/plain": [
       "<Figure size 576x396 with 1 Axes>"
      ]
     },
     "metadata": {},
     "output_type": "display_data"
    }
   ],
   "source": [
    "sns.boxplot(data=train_data, x=\"Sex\", y=\"Survived\") #exibindo grafico de sobreviventes por sexo"
   ]
  },
  {
   "cell_type": "code",
   "execution_count": 9,
   "id": "93f28713",
   "metadata": {
    "execution": {
     "iopub.execute_input": "2021-09-02T03:53:38.728675Z",
     "iopub.status.busy": "2021-09-02T03:53:38.727925Z",
     "iopub.status.idle": "2021-09-02T03:53:38.857666Z",
     "shell.execute_reply": "2021-09-02T03:53:38.857121Z",
     "shell.execute_reply.started": "2021-09-02T03:47:29.378888Z"
    },
    "papermill": {
     "duration": 0.173978,
     "end_time": "2021-09-02T03:53:38.857815",
     "exception": false,
     "start_time": "2021-09-02T03:53:38.683837",
     "status": "completed"
    },
    "tags": []
   },
   "outputs": [
    {
     "data": {
      "text/plain": [
       "0    0.616162\n",
       "1    0.383838\n",
       "Name: Survived, dtype: float64"
      ]
     },
     "execution_count": 9,
     "metadata": {},
     "output_type": "execute_result"
    }
   ],
   "source": [
    "train_data[\"Survived\"].value_counts(normalize=True) #verificando quantas pessoas sobreviveram nos dados de treino e quantas morreram"
   ]
  },
  {
   "cell_type": "code",
   "execution_count": 10,
   "id": "bb8a0080",
   "metadata": {
    "execution": {
     "iopub.execute_input": "2021-09-02T03:53:38.941100Z",
     "iopub.status.busy": "2021-09-02T03:53:38.940215Z",
     "iopub.status.idle": "2021-09-02T03:53:38.944467Z",
     "shell.execute_reply": "2021-09-02T03:53:38.943830Z",
     "shell.execute_reply.started": "2021-09-02T03:47:29.710314Z"
    },
    "papermill": {
     "duration": 0.048022,
     "end_time": "2021-09-02T03:53:38.944610",
     "exception": false,
     "start_time": "2021-09-02T03:53:38.896588",
     "status": "completed"
    },
    "tags": []
   },
   "outputs": [
    {
     "data": {
      "text/plain": [
       "array([0, 1, 2, 5, 3, 4, 6])"
      ]
     },
     "execution_count": 10,
     "metadata": {},
     "output_type": "execute_result"
    }
   ],
   "source": [
    "train_data[\"Parch\"].unique()"
   ]
  },
  {
   "cell_type": "code",
   "execution_count": 11,
   "id": "2bde067a",
   "metadata": {
    "execution": {
     "iopub.execute_input": "2021-09-02T03:53:39.029754Z",
     "iopub.status.busy": "2021-09-02T03:53:39.029028Z",
     "iopub.status.idle": "2021-09-02T03:53:39.035273Z",
     "shell.execute_reply": "2021-09-02T03:53:39.035830Z",
     "shell.execute_reply.started": "2021-09-02T03:47:30.135395Z"
    },
    "papermill": {
     "duration": 0.052179,
     "end_time": "2021-09-02T03:53:39.036007",
     "exception": false,
     "start_time": "2021-09-02T03:53:38.983828",
     "status": "completed"
    },
    "tags": []
   },
   "outputs": [
    {
     "data": {
      "text/plain": [
       "0"
      ]
     },
     "execution_count": 11,
     "metadata": {},
     "output_type": "execute_result"
    }
   ],
   "source": [
    "train_data.duplicated(subset=[\"Survived\",\"Pclass\",\"Name\",\"Sex\", \"Age\", \"SibSp\", \"Parch\",\"Ticket\",\"Fare\",\"Cabin\", \"Embarked\"]).sum() #verificando se há duplicadas"
   ]
  },
  {
   "cell_type": "code",
   "execution_count": 12,
   "id": "aa5b0695",
   "metadata": {
    "execution": {
     "iopub.execute_input": "2021-09-02T03:53:39.131001Z",
     "iopub.status.busy": "2021-09-02T03:53:39.123237Z",
     "iopub.status.idle": "2021-09-02T03:53:39.151396Z",
     "shell.execute_reply": "2021-09-02T03:53:39.150807Z",
     "shell.execute_reply.started": "2021-09-02T03:47:30.477663Z"
    },
    "papermill": {
     "duration": 0.076295,
     "end_time": "2021-09-02T03:53:39.151541",
     "exception": false,
     "start_time": "2021-09-02T03:53:39.075246",
     "status": "completed"
    },
    "tags": []
   },
   "outputs": [
    {
     "data": {
      "text/html": [
       "<div>\n",
       "<style scoped>\n",
       "    .dataframe tbody tr th:only-of-type {\n",
       "        vertical-align: middle;\n",
       "    }\n",
       "\n",
       "    .dataframe tbody tr th {\n",
       "        vertical-align: top;\n",
       "    }\n",
       "\n",
       "    .dataframe thead th {\n",
       "        text-align: right;\n",
       "    }\n",
       "</style>\n",
       "<table border=\"1\" class=\"dataframe\">\n",
       "  <thead>\n",
       "    <tr style=\"text-align: right;\">\n",
       "      <th></th>\n",
       "      <th>PassengerId</th>\n",
       "      <th>Survived</th>\n",
       "      <th>Pclass</th>\n",
       "      <th>Age</th>\n",
       "      <th>SibSp</th>\n",
       "      <th>Parch</th>\n",
       "      <th>Fare</th>\n",
       "    </tr>\n",
       "  </thead>\n",
       "  <tbody>\n",
       "    <tr>\n",
       "      <th>count</th>\n",
       "      <td>891.000000</td>\n",
       "      <td>891.000000</td>\n",
       "      <td>891.000000</td>\n",
       "      <td>714.000000</td>\n",
       "      <td>891.000000</td>\n",
       "      <td>891.000000</td>\n",
       "      <td>891.000000</td>\n",
       "    </tr>\n",
       "    <tr>\n",
       "      <th>mean</th>\n",
       "      <td>446.000000</td>\n",
       "      <td>0.383838</td>\n",
       "      <td>2.308642</td>\n",
       "      <td>29.699118</td>\n",
       "      <td>0.523008</td>\n",
       "      <td>0.381594</td>\n",
       "      <td>32.204208</td>\n",
       "    </tr>\n",
       "    <tr>\n",
       "      <th>std</th>\n",
       "      <td>257.353842</td>\n",
       "      <td>0.486592</td>\n",
       "      <td>0.836071</td>\n",
       "      <td>14.526497</td>\n",
       "      <td>1.102743</td>\n",
       "      <td>0.806057</td>\n",
       "      <td>49.693429</td>\n",
       "    </tr>\n",
       "    <tr>\n",
       "      <th>min</th>\n",
       "      <td>1.000000</td>\n",
       "      <td>0.000000</td>\n",
       "      <td>1.000000</td>\n",
       "      <td>0.420000</td>\n",
       "      <td>0.000000</td>\n",
       "      <td>0.000000</td>\n",
       "      <td>0.000000</td>\n",
       "    </tr>\n",
       "    <tr>\n",
       "      <th>25%</th>\n",
       "      <td>223.500000</td>\n",
       "      <td>0.000000</td>\n",
       "      <td>2.000000</td>\n",
       "      <td>20.125000</td>\n",
       "      <td>0.000000</td>\n",
       "      <td>0.000000</td>\n",
       "      <td>7.910400</td>\n",
       "    </tr>\n",
       "    <tr>\n",
       "      <th>50%</th>\n",
       "      <td>446.000000</td>\n",
       "      <td>0.000000</td>\n",
       "      <td>3.000000</td>\n",
       "      <td>28.000000</td>\n",
       "      <td>0.000000</td>\n",
       "      <td>0.000000</td>\n",
       "      <td>14.454200</td>\n",
       "    </tr>\n",
       "    <tr>\n",
       "      <th>75%</th>\n",
       "      <td>668.500000</td>\n",
       "      <td>1.000000</td>\n",
       "      <td>3.000000</td>\n",
       "      <td>38.000000</td>\n",
       "      <td>1.000000</td>\n",
       "      <td>0.000000</td>\n",
       "      <td>31.000000</td>\n",
       "    </tr>\n",
       "    <tr>\n",
       "      <th>max</th>\n",
       "      <td>891.000000</td>\n",
       "      <td>1.000000</td>\n",
       "      <td>3.000000</td>\n",
       "      <td>80.000000</td>\n",
       "      <td>8.000000</td>\n",
       "      <td>6.000000</td>\n",
       "      <td>512.329200</td>\n",
       "    </tr>\n",
       "  </tbody>\n",
       "</table>\n",
       "</div>"
      ],
      "text/plain": [
       "       PassengerId    Survived      Pclass         Age       SibSp  \\\n",
       "count   891.000000  891.000000  891.000000  714.000000  891.000000   \n",
       "mean    446.000000    0.383838    2.308642   29.699118    0.523008   \n",
       "std     257.353842    0.486592    0.836071   14.526497    1.102743   \n",
       "min       1.000000    0.000000    1.000000    0.420000    0.000000   \n",
       "25%     223.500000    0.000000    2.000000   20.125000    0.000000   \n",
       "50%     446.000000    0.000000    3.000000   28.000000    0.000000   \n",
       "75%     668.500000    1.000000    3.000000   38.000000    1.000000   \n",
       "max     891.000000    1.000000    3.000000   80.000000    8.000000   \n",
       "\n",
       "            Parch        Fare  \n",
       "count  891.000000  891.000000  \n",
       "mean     0.381594   32.204208  \n",
       "std      0.806057   49.693429  \n",
       "min      0.000000    0.000000  \n",
       "25%      0.000000    7.910400  \n",
       "50%      0.000000   14.454200  \n",
       "75%      0.000000   31.000000  \n",
       "max      6.000000  512.329200  "
      ]
     },
     "execution_count": 12,
     "metadata": {},
     "output_type": "execute_result"
    }
   ],
   "source": [
    "train_data.describe()"
   ]
  },
  {
   "cell_type": "code",
   "execution_count": 13,
   "id": "a4180bd3",
   "metadata": {
    "execution": {
     "iopub.execute_input": "2021-09-02T03:53:39.239983Z",
     "iopub.status.busy": "2021-09-02T03:53:39.239032Z",
     "iopub.status.idle": "2021-09-02T03:53:39.243218Z",
     "shell.execute_reply": "2021-09-02T03:53:39.242669Z",
     "shell.execute_reply.started": "2021-09-02T03:47:30.898023Z"
    },
    "papermill": {
     "duration": 0.051956,
     "end_time": "2021-09-02T03:53:39.243383",
     "exception": false,
     "start_time": "2021-09-02T03:53:39.191427",
     "status": "completed"
    },
    "tags": []
   },
   "outputs": [
    {
     "data": {
      "text/plain": [
       "B96 B98        4\n",
       "C23 C25 C27    4\n",
       "G6             4\n",
       "F2             3\n",
       "E101           3\n",
       "              ..\n",
       "D49            1\n",
       "B102           1\n",
       "B42            1\n",
       "B3             1\n",
       "C101           1\n",
       "Name: Cabin, Length: 147, dtype: int64"
      ]
     },
     "execution_count": 13,
     "metadata": {},
     "output_type": "execute_result"
    }
   ],
   "source": [
    "train_data[\"Cabin\"].value_counts()"
   ]
  },
  {
   "cell_type": "code",
   "execution_count": 14,
   "id": "d7c258c0",
   "metadata": {
    "execution": {
     "iopub.execute_input": "2021-09-02T03:53:39.330549Z",
     "iopub.status.busy": "2021-09-02T03:53:39.329540Z",
     "iopub.status.idle": "2021-09-02T03:53:39.332757Z",
     "shell.execute_reply": "2021-09-02T03:53:39.332136Z",
     "shell.execute_reply.started": "2021-09-02T03:47:31.779706Z"
    },
    "papermill": {
     "duration": 0.049353,
     "end_time": "2021-09-02T03:53:39.332908",
     "exception": false,
     "start_time": "2021-09-02T03:53:39.283555",
     "status": "completed"
    },
    "tags": []
   },
   "outputs": [],
   "source": [
    "train_data[\"Cabin\"] = train_data[\"Cabin\"].fillna(\"SEM CABINE\")\n",
    "test_data[\"Cabin\"] = test_data[\"Cabin\"].fillna(\"SEM CABINE\")"
   ]
  },
  {
   "cell_type": "code",
   "execution_count": 15,
   "id": "7284b7bc",
   "metadata": {
    "execution": {
     "iopub.execute_input": "2021-09-02T03:53:39.429904Z",
     "iopub.status.busy": "2021-09-02T03:53:39.428990Z",
     "iopub.status.idle": "2021-09-02T03:53:39.433747Z",
     "shell.execute_reply": "2021-09-02T03:53:39.433208Z",
     "shell.execute_reply.started": "2021-09-02T03:47:32.507760Z"
    },
    "papermill": {
     "duration": 0.060908,
     "end_time": "2021-09-02T03:53:39.433899",
     "exception": false,
     "start_time": "2021-09-02T03:53:39.372991",
     "status": "completed"
    },
    "tags": []
   },
   "outputs": [
    {
     "data": {
      "text/html": [
       "<div>\n",
       "<style scoped>\n",
       "    .dataframe tbody tr th:only-of-type {\n",
       "        vertical-align: middle;\n",
       "    }\n",
       "\n",
       "    .dataframe tbody tr th {\n",
       "        vertical-align: top;\n",
       "    }\n",
       "\n",
       "    .dataframe thead th {\n",
       "        text-align: right;\n",
       "    }\n",
       "</style>\n",
       "<table border=\"1\" class=\"dataframe\">\n",
       "  <thead>\n",
       "    <tr style=\"text-align: right;\">\n",
       "      <th></th>\n",
       "      <th>PassengerId</th>\n",
       "      <th>Survived</th>\n",
       "      <th>Pclass</th>\n",
       "      <th>Name</th>\n",
       "      <th>Sex</th>\n",
       "      <th>Age</th>\n",
       "      <th>SibSp</th>\n",
       "      <th>Parch</th>\n",
       "      <th>Ticket</th>\n",
       "      <th>Fare</th>\n",
       "      <th>Cabin</th>\n",
       "      <th>Embarked</th>\n",
       "    </tr>\n",
       "  </thead>\n",
       "  <tbody>\n",
       "    <tr>\n",
       "      <th>0</th>\n",
       "      <td>1</td>\n",
       "      <td>0</td>\n",
       "      <td>3</td>\n",
       "      <td>Braund, Mr. Owen Harris</td>\n",
       "      <td>male</td>\n",
       "      <td>22.0</td>\n",
       "      <td>1</td>\n",
       "      <td>0</td>\n",
       "      <td>A/5 21171</td>\n",
       "      <td>7.2500</td>\n",
       "      <td>SEM CABINE</td>\n",
       "      <td>S</td>\n",
       "    </tr>\n",
       "    <tr>\n",
       "      <th>1</th>\n",
       "      <td>2</td>\n",
       "      <td>1</td>\n",
       "      <td>1</td>\n",
       "      <td>Cumings, Mrs. John Bradley (Florence Briggs Th...</td>\n",
       "      <td>female</td>\n",
       "      <td>38.0</td>\n",
       "      <td>1</td>\n",
       "      <td>0</td>\n",
       "      <td>PC 17599</td>\n",
       "      <td>71.2833</td>\n",
       "      <td>C85</td>\n",
       "      <td>C</td>\n",
       "    </tr>\n",
       "    <tr>\n",
       "      <th>2</th>\n",
       "      <td>3</td>\n",
       "      <td>1</td>\n",
       "      <td>3</td>\n",
       "      <td>Heikkinen, Miss. Laina</td>\n",
       "      <td>female</td>\n",
       "      <td>26.0</td>\n",
       "      <td>0</td>\n",
       "      <td>0</td>\n",
       "      <td>STON/O2. 3101282</td>\n",
       "      <td>7.9250</td>\n",
       "      <td>SEM CABINE</td>\n",
       "      <td>S</td>\n",
       "    </tr>\n",
       "    <tr>\n",
       "      <th>3</th>\n",
       "      <td>4</td>\n",
       "      <td>1</td>\n",
       "      <td>1</td>\n",
       "      <td>Futrelle, Mrs. Jacques Heath (Lily May Peel)</td>\n",
       "      <td>female</td>\n",
       "      <td>35.0</td>\n",
       "      <td>1</td>\n",
       "      <td>0</td>\n",
       "      <td>113803</td>\n",
       "      <td>53.1000</td>\n",
       "      <td>C123</td>\n",
       "      <td>S</td>\n",
       "    </tr>\n",
       "    <tr>\n",
       "      <th>4</th>\n",
       "      <td>5</td>\n",
       "      <td>0</td>\n",
       "      <td>3</td>\n",
       "      <td>Allen, Mr. William Henry</td>\n",
       "      <td>male</td>\n",
       "      <td>35.0</td>\n",
       "      <td>0</td>\n",
       "      <td>0</td>\n",
       "      <td>373450</td>\n",
       "      <td>8.0500</td>\n",
       "      <td>SEM CABINE</td>\n",
       "      <td>S</td>\n",
       "    </tr>\n",
       "  </tbody>\n",
       "</table>\n",
       "</div>"
      ],
      "text/plain": [
       "   PassengerId  Survived  Pclass  \\\n",
       "0            1         0       3   \n",
       "1            2         1       1   \n",
       "2            3         1       3   \n",
       "3            4         1       1   \n",
       "4            5         0       3   \n",
       "\n",
       "                                                Name     Sex   Age  SibSp  \\\n",
       "0                            Braund, Mr. Owen Harris    male  22.0      1   \n",
       "1  Cumings, Mrs. John Bradley (Florence Briggs Th...  female  38.0      1   \n",
       "2                             Heikkinen, Miss. Laina  female  26.0      0   \n",
       "3       Futrelle, Mrs. Jacques Heath (Lily May Peel)  female  35.0      1   \n",
       "4                           Allen, Mr. William Henry    male  35.0      0   \n",
       "\n",
       "   Parch            Ticket     Fare       Cabin Embarked  \n",
       "0      0         A/5 21171   7.2500  SEM CABINE        S  \n",
       "1      0          PC 17599  71.2833         C85        C  \n",
       "2      0  STON/O2. 3101282   7.9250  SEM CABINE        S  \n",
       "3      0            113803  53.1000        C123        S  \n",
       "4      0            373450   8.0500  SEM CABINE        S  "
      ]
     },
     "execution_count": 15,
     "metadata": {},
     "output_type": "execute_result"
    }
   ],
   "source": [
    "train_data.head()"
   ]
  },
  {
   "cell_type": "code",
   "execution_count": 16,
   "id": "ba1b49ad",
   "metadata": {
    "execution": {
     "iopub.execute_input": "2021-09-02T03:53:39.521191Z",
     "iopub.status.busy": "2021-09-02T03:53:39.520449Z",
     "iopub.status.idle": "2021-09-02T03:53:39.540219Z",
     "shell.execute_reply": "2021-09-02T03:53:39.539643Z",
     "shell.execute_reply.started": "2021-09-02T03:47:33.326590Z"
    },
    "papermill": {
     "duration": 0.065833,
     "end_time": "2021-09-02T03:53:39.540379",
     "exception": false,
     "start_time": "2021-09-02T03:53:39.474546",
     "status": "completed"
    },
    "tags": []
   },
   "outputs": [],
   "source": [
    "from sklearn.impute import SimpleImputer\n",
    "my_imputer = SimpleImputer()\n",
    "\n",
    "train_data.loc[:,\"Age_imp\"] = my_imputer.fit_transform(train_data.loc[:,[\"Age\"]])\n",
    "test_data.loc[:,\"Age_imp\"] = my_imputer.fit_transform(test_data.loc[:,[\"Age\"]])\n",
    "#train_data[\"Age\"]="
   ]
  },
  {
   "cell_type": "code",
   "execution_count": 17,
   "id": "758b76ac",
   "metadata": {
    "execution": {
     "iopub.execute_input": "2021-09-02T03:53:39.629641Z",
     "iopub.status.busy": "2021-09-02T03:53:39.627846Z",
     "iopub.status.idle": "2021-09-02T03:53:39.810805Z",
     "shell.execute_reply": "2021-09-02T03:53:39.810190Z",
     "shell.execute_reply.started": "2021-09-02T03:47:38.064042Z"
    },
    "papermill": {
     "duration": 0.229931,
     "end_time": "2021-09-02T03:53:39.810949",
     "exception": false,
     "start_time": "2021-09-02T03:53:39.581018",
     "status": "completed"
    },
    "tags": []
   },
   "outputs": [
    {
     "data": {
      "text/plain": [
       "(array([0, 1]), [Text(0, 0, '0'), Text(1, 0, '1')])"
      ]
     },
     "execution_count": 17,
     "metadata": {},
     "output_type": "execute_result"
    },
    {
     "data": {
      "image/png": "[encoded data removed]",
      "text/plain": [
       "<Figure size 720x720 with 1 Axes>"
      ]
     },
     "metadata": {},
     "output_type": "display_data"
    }
   ],
   "source": [
    "plt.figure(figsize=(10,10))\n",
    "sns.boxplot(data=train_data[[\"Survived\",\"Fare\"]], y=\"Fare\", x=\"Survived\")\n",
    "plt.xticks(rotation =45)"
   ]
  },
  {
   "cell_type": "code",
   "execution_count": 18,
   "id": "45a2d97c",
   "metadata": {
    "execution": {
     "iopub.execute_input": "2021-09-02T03:53:39.904307Z",
     "iopub.status.busy": "2021-09-02T03:53:39.902604Z",
     "iopub.status.idle": "2021-09-02T03:53:40.238121Z",
     "shell.execute_reply": "2021-09-02T03:53:40.237568Z",
     "shell.execute_reply.started": "2021-09-02T03:47:39.518944Z"
    },
    "papermill": {
     "duration": 0.385462,
     "end_time": "2021-09-02T03:53:40.238266",
     "exception": false,
     "start_time": "2021-09-02T03:53:39.852804",
     "status": "completed"
    },
    "tags": []
   },
   "outputs": [
    {
     "data": {
      "text/plain": [
       "<AxesSubplot:xlabel='Survived', ylabel='SibSp'>"
      ]
     },
     "execution_count": 18,
     "metadata": {},
     "output_type": "execute_result"
    },
    {
     "data": {
      "image/png": "[encoded data removed]",
      "text/plain": [
       "<Figure size 864x432 with 1 Axes>"
      ]
     },
     "metadata": {},
     "output_type": "display_data"
    }
   ],
   "source": [
    "sns.set_style(\"white\")\n",
    "plt.figure(figsize=(12,6))\n",
    "sns.violinplot(data=train_data, x = \"Survived\", y= \"SibSp\")"
   ]
  },
  {
   "cell_type": "code",
   "execution_count": 19,
   "id": "07e5127e",
   "metadata": {
    "execution": {
     "iopub.execute_input": "2021-09-02T03:53:40.333462Z",
     "iopub.status.busy": "2021-09-02T03:53:40.329702Z",
     "iopub.status.idle": "2021-09-02T03:53:40.508122Z",
     "shell.execute_reply": "2021-09-02T03:53:40.507596Z",
     "shell.execute_reply.started": "2021-09-02T03:47:41.733640Z"
    },
    "papermill": {
     "duration": 0.226842,
     "end_time": "2021-09-02T03:53:40.508263",
     "exception": false,
     "start_time": "2021-09-02T03:53:40.281421",
     "status": "completed"
    },
    "tags": []
   },
   "outputs": [
    {
     "data": {
      "text/plain": [
       "(array([0, 1]), [Text(0, 0, '0'), Text(1, 0, '1')])"
      ]
     },
     "execution_count": 19,
     "metadata": {},
     "output_type": "execute_result"
    },
    {
     "data": {
      "image/png": "[encoded data removed]",
      "text/plain": [
       "<Figure size 720x720 with 1 Axes>"
      ]
     },
     "metadata": {},
     "output_type": "display_data"
    }
   ],
   "source": [
    "plt.figure(figsize=(10,10))\n",
    "sns.boxplot(data=train_data[[\"Survived\",\"Parch\"]], y=\"Parch\", x=\"Survived\")\n",
    "plt.xticks(rotation =45)"
   ]
  },
  {
   "cell_type": "code",
   "execution_count": 20,
   "id": "e381fded",
   "metadata": {
    "execution": {
     "iopub.execute_input": "2021-09-02T03:53:40.606273Z",
     "iopub.status.busy": "2021-09-02T03:53:40.605599Z",
     "iopub.status.idle": "2021-09-02T03:53:40.608847Z",
     "shell.execute_reply": "2021-09-02T03:53:40.608206Z",
     "shell.execute_reply.started": "2021-09-02T03:47:43.204892Z"
    },
    "papermill": {
     "duration": 0.055318,
     "end_time": "2021-09-02T03:53:40.608987",
     "exception": false,
     "start_time": "2021-09-02T03:53:40.553669",
     "status": "completed"
    },
    "tags": []
   },
   "outputs": [],
   "source": [
    "def removendo_outliers (df,feat):\n",
    "    q1, q3 = df[feat].quantile([.25,.75])\n",
    "    iqr = q3 - q1\n",
    "    lower_bound = max(q1-1.5*iqr,0)\n",
    "    upper_bound = (q3+1.5*iqr)\n",
    "    len_before = (~df[feat].isnull()).sum()\n",
    "    df[~df[feat].between(lower_bound,upper_bound)] = np.nan\n",
    "    len_after = (~df[feat].isnull()).sum()\n",
    "    print (f\"Removidos {(1 -(len_after/len_before))*100}% dos dados\")\n",
    "    return df"
   ]
  },
  {
   "cell_type": "code",
   "execution_count": 21,
   "id": "ff97c92e",
   "metadata": {
    "execution": {
     "iopub.execute_input": "2021-09-02T03:53:40.703937Z",
     "iopub.status.busy": "2021-09-02T03:53:40.702965Z",
     "iopub.status.idle": "2021-09-02T03:53:41.392537Z",
     "shell.execute_reply": "2021-09-02T03:53:41.393021Z",
     "shell.execute_reply.started": "2021-09-02T03:47:48.198331Z"
    },
    "papermill": {
     "duration": 0.739655,
     "end_time": "2021-09-02T03:53:41.393210",
     "exception": false,
     "start_time": "2021-09-02T03:53:40.653555",
     "status": "completed"
    },
    "tags": []
   },
   "outputs": [
    {
     "data": {
      "text/plain": [
       "<AxesSubplot:>"
      ]
     },
     "execution_count": 21,
     "metadata": {},
     "output_type": "execute_result"
    },
    {
     "data": {
      "image/png": "[encoded data removed]",
      "text/plain": [
       "<Figure size 576x396 with 2 Axes>"
      ]
     },
     "metadata": {},
     "output_type": "display_data"
    }
   ],
   "source": [
    "sns.heatmap(train_data.corr(), annot=True, vmin=-1, vmax=1) "
   ]
  },
  {
   "cell_type": "code",
   "execution_count": 22,
   "id": "6c535abe",
   "metadata": {
    "execution": {
     "iopub.execute_input": "2021-09-02T03:53:41.501295Z",
     "iopub.status.busy": "2021-09-02T03:53:41.500540Z",
     "iopub.status.idle": "2021-09-02T03:53:41.503571Z",
     "shell.execute_reply": "2021-09-02T03:53:41.503074Z",
     "shell.execute_reply.started": "2021-09-02T03:47:49.810493Z"
    },
    "papermill": {
     "duration": 0.063271,
     "end_time": "2021-09-02T03:53:41.503716",
     "exception": false,
     "start_time": "2021-09-02T03:53:41.440445",
     "status": "completed"
    },
    "tags": []
   },
   "outputs": [],
   "source": [
    "y = train_data[\"Survived\"]\n",
    "\n",
    "features = [\"Pclass\", \"SibSp\", \"Parch\",\"Age_imp\",\"Fare\"]\n",
    "X = pd.get_dummies(train_data[features])\n",
    "X_test = pd.get_dummies(test_data[features])"
   ]
  },
  {
   "cell_type": "code",
   "execution_count": 23,
   "id": "30498419",
   "metadata": {
    "execution": {
     "iopub.execute_input": "2021-09-02T03:53:41.612792Z",
     "iopub.status.busy": "2021-09-02T03:53:41.612008Z",
     "iopub.status.idle": "2021-09-02T03:53:41.630407Z",
     "shell.execute_reply": "2021-09-02T03:53:41.629882Z",
     "shell.execute_reply.started": "2021-09-02T03:47:50.989227Z"
    },
    "papermill": {
     "duration": 0.07871,
     "end_time": "2021-09-02T03:53:41.630566",
     "exception": false,
     "start_time": "2021-09-02T03:53:41.551856",
     "status": "completed"
    },
    "tags": []
   },
   "outputs": [
    {
     "name": "stdout",
     "output_type": "stream",
     "text": [
      "Removidos 7.4074074074074066% dos dados\n",
      "Removidos 4.727272727272725% dos dados\n",
      "Removidos 12.977099236641221% dos dados\n"
     ]
    }
   ],
   "source": [
    "train_data[\"Age_imp\"]=removendo_outliers(train_data,\"Age_imp\")\n",
    "train_data[\"SibSp\"]=removendo_outliers(train_data,\"SibSp\")\n",
    "train_data[\"Fare\"]=removendo_outliers(train_data,\"Fare\")"
   ]
  },
  {
   "cell_type": "code",
   "execution_count": 24,
   "id": "2ada1c2c",
   "metadata": {
    "execution": {
     "iopub.execute_input": "2021-09-02T03:53:41.740060Z",
     "iopub.status.busy": "2021-09-02T03:53:41.739338Z",
     "iopub.status.idle": "2021-09-02T03:53:41.743114Z",
     "shell.execute_reply": "2021-09-02T03:53:41.742514Z",
     "shell.execute_reply.started": "2021-09-02T03:47:52.966316Z"
    },
    "papermill": {
     "duration": 0.065106,
     "end_time": "2021-09-02T03:53:41.743252",
     "exception": false,
     "start_time": "2021-09-02T03:53:41.678146",
     "status": "completed"
    },
    "tags": []
   },
   "outputs": [
    {
     "name": "stdout",
     "output_type": "stream",
     "text": [
      "<class 'pandas.core.frame.DataFrame'>\n",
      "RangeIndex: 418 entries, 0 to 417\n",
      "Data columns (total 12 columns):\n",
      " #   Column       Non-Null Count  Dtype  \n",
      "---  ------       --------------  -----  \n",
      " 0   PassengerId  418 non-null    int64  \n",
      " 1   Pclass       418 non-null    int64  \n",
      " 2   Name         418 non-null    object \n",
      " 3   Sex          418 non-null    object \n",
      " 4   Age          332 non-null    float64\n",
      " 5   SibSp        418 non-null    int64  \n",
      " 6   Parch        418 non-null    int64  \n",
      " 7   Ticket       418 non-null    object \n",
      " 8   Fare         417 non-null    float64\n",
      " 9   Cabin        418 non-null    object \n",
      " 10  Embarked     418 non-null    object \n",
      " 11  Age_imp      418 non-null    float64\n",
      "dtypes: float64(3), int64(4), object(5)\n",
      "memory usage: 39.3+ KB\n"
     ]
    }
   ],
   "source": [
    "test_data.info()"
   ]
  },
  {
   "cell_type": "code",
   "execution_count": 25,
   "id": "7e1daa30",
   "metadata": {
    "execution": {
     "iopub.execute_input": "2021-09-02T03:53:41.870531Z",
     "iopub.status.busy": "2021-09-02T03:53:41.849076Z",
     "iopub.status.idle": "2021-09-02T03:53:42.021847Z",
     "shell.execute_reply": "2021-09-02T03:53:42.021311Z",
     "shell.execute_reply.started": "2021-09-02T03:47:55.879671Z"
    },
    "papermill": {
     "duration": 0.229927,
     "end_time": "2021-09-02T03:53:42.021993",
     "exception": false,
     "start_time": "2021-09-02T03:53:41.792066",
     "status": "completed"
    },
    "tags": []
   },
   "outputs": [
    {
     "data": {
      "text/plain": [
       "(array([0, 1]), [Text(0, 0, '0.0'), Text(1, 0, '1.0')])"
      ]
     },
     "execution_count": 25,
     "metadata": {},
     "output_type": "execute_result"
    },
    {
     "data": {
      "image/png": "[encoded data removed]",
      "text/plain": [
       "<Figure size 720x720 with 1 Axes>"
      ]
     },
     "metadata": {},
     "output_type": "display_data"
    }
   ],
   "source": [
    "plt.figure(figsize=(10,10))\n",
    "sns.boxplot(data=train_data[[\"Survived\",\"Age_imp\"]], y=\"Age_imp\", x=\"Survived\")\n",
    "plt.xticks(rotation =45) #verificando se funcionou"
   ]
  },
  {
   "cell_type": "code",
   "execution_count": 26,
   "id": "20cb73d4",
   "metadata": {
    "execution": {
     "iopub.execute_input": "2021-09-02T03:53:42.130416Z",
     "iopub.status.busy": "2021-09-02T03:53:42.128921Z",
     "iopub.status.idle": "2021-09-02T03:53:42.150009Z",
     "shell.execute_reply": "2021-09-02T03:53:42.150538Z",
     "shell.execute_reply.started": "2021-09-02T03:47:56.977907Z"
    },
    "papermill": {
     "duration": 0.080087,
     "end_time": "2021-09-02T03:53:42.150726",
     "exception": false,
     "start_time": "2021-09-02T03:53:42.070639",
     "status": "completed"
    },
    "tags": []
   },
   "outputs": [
    {
     "name": "stdout",
     "output_type": "stream",
     "text": [
      "<class 'pandas.core.frame.DataFrame'>\n",
      "RangeIndex: 891 entries, 0 to 890\n",
      "Data columns (total 13 columns):\n",
      " #   Column       Non-Null Count  Dtype  \n",
      "---  ------       --------------  -----  \n",
      " 0   PassengerId  684 non-null    float64\n",
      " 1   Survived     684 non-null    float64\n",
      " 2   Pclass       684 non-null    float64\n",
      " 3   Name         684 non-null    object \n",
      " 4   Sex          684 non-null    object \n",
      " 5   Age          526 non-null    float64\n",
      " 6   SibSp        684 non-null    object \n",
      " 7   Parch        684 non-null    float64\n",
      " 8   Ticket       684 non-null    object \n",
      " 9   Fare         684 non-null    object \n",
      " 10  Cabin        684 non-null    object \n",
      " 11  Embarked     684 non-null    object \n",
      " 12  Age_imp      684 non-null    object \n",
      "dtypes: float64(5), object(8)\n",
      "memory usage: 90.6+ KB\n"
     ]
    }
   ],
   "source": [
    "train_data.describe()\n",
    "train_data.info()"
   ]
  },
  {
   "cell_type": "code",
   "execution_count": 27,
   "id": "0e3053a4",
   "metadata": {
    "execution": {
     "iopub.execute_input": "2021-09-02T03:53:42.256477Z",
     "iopub.status.busy": "2021-09-02T03:53:42.254273Z",
     "iopub.status.idle": "2021-09-02T03:53:42.259142Z",
     "shell.execute_reply": "2021-09-02T03:53:42.258478Z",
     "shell.execute_reply.started": "2021-09-02T03:47:58.034114Z"
    },
    "papermill": {
     "duration": 0.059582,
     "end_time": "2021-09-02T03:53:42.259289",
     "exception": false,
     "start_time": "2021-09-02T03:53:42.199707",
     "status": "completed"
    },
    "tags": []
   },
   "outputs": [],
   "source": [
    "X_train, X_valid, y_train, y_valid = train_test_split(X, y, test_size=.3, stratify=y, shuffle=True)"
   ]
  },
  {
   "cell_type": "code",
   "execution_count": 28,
   "id": "349a7cb8",
   "metadata": {
    "execution": {
     "iopub.execute_input": "2021-09-02T03:53:42.365515Z",
     "iopub.status.busy": "2021-09-02T03:53:42.364800Z",
     "iopub.status.idle": "2021-09-02T03:53:42.387954Z",
     "shell.execute_reply": "2021-09-02T03:53:42.387240Z",
     "shell.execute_reply.started": "2021-09-02T03:48:00.535149Z"
    },
    "papermill": {
     "duration": 0.079052,
     "end_time": "2021-09-02T03:53:42.388107",
     "exception": false,
     "start_time": "2021-09-02T03:53:42.309055",
     "status": "completed"
    },
    "tags": []
   },
   "outputs": [],
   "source": [
    "from scikitplot.metrics import plot_confusion_matrix\n",
    "from sklearn.metrics import classification_report\n",
    "from scikitplot.metrics import plot_cumulative_gain, plot_lift_curve, plot_ks_statistic\n",
    "import pandas as pd\n",
    "import numpy as np\n",
    "from sklearn.model_selection import train_test_split\n",
    "from sklearn.preprocessing import StandardScaler, LabelEncoder\n",
    "from sklearn.tree import DecisionTreeClassifier, plot_tree\n",
    "from sklearn.ensemble import RandomForestClassifier\n",
    "from sklearn.linear_model import LogisticRegression\n",
    "from sklearn.metrics import classification_report, confusion_matrix\n",
    "from scikitplot.metrics import plot_confusion_matrix\n",
    "import seaborn as sns\n",
    "import matplotlib.pyplot as plt\n",
    "from sklearn.metrics import classification_report"
   ]
  },
  {
   "cell_type": "code",
   "execution_count": 29,
   "id": "06e9912a",
   "metadata": {
    "execution": {
     "iopub.execute_input": "2021-09-02T03:53:42.496596Z",
     "iopub.status.busy": "2021-09-02T03:53:42.495650Z",
     "iopub.status.idle": "2021-09-02T03:53:42.508118Z",
     "shell.execute_reply": "2021-09-02T03:53:42.508633Z",
     "shell.execute_reply.started": "2021-09-02T03:48:02.223334Z"
    },
    "papermill": {
     "duration": 0.069895,
     "end_time": "2021-09-02T03:53:42.508830",
     "exception": false,
     "start_time": "2021-09-02T03:53:42.438935",
     "status": "completed"
    },
    "tags": []
   },
   "outputs": [
    {
     "name": "stdout",
     "output_type": "stream",
     "text": [
      "              precision    recall  f1-score   support\n",
      "\n",
      "           0       0.75      0.84      0.79       165\n",
      "           1       0.68      0.54      0.61       103\n",
      "\n",
      "    accuracy                           0.73       268\n",
      "   macro avg       0.72      0.69      0.70       268\n",
      "weighted avg       0.72      0.73      0.72       268\n",
      "\n"
     ]
    }
   ],
   "source": [
    "import pandas as pd\n",
    "from sklearn.tree import DecisionTreeClassifier\n",
    "from sklearn import metrics\n",
    "from sklearn.metrics import classification_report, confusion_matrix, accuracy_score\n",
    "\n",
    "clf = DecisionTreeClassifier(max_depth=8, min_samples_leaf=20)\n",
    "clf = clf.fit(X,y)\n",
    "y_pred_clf = clf.predict(X_valid)\n",
    "print(classification_report(y_valid, y_pred_clf))"
   ]
  },
  {
   "cell_type": "code",
   "execution_count": 30,
   "id": "25139025",
   "metadata": {
    "execution": {
     "iopub.execute_input": "2021-09-02T03:53:42.617037Z",
     "iopub.status.busy": "2021-09-02T03:53:42.616323Z",
     "iopub.status.idle": "2021-09-02T03:53:42.640805Z",
     "shell.execute_reply": "2021-09-02T03:53:42.641327Z",
     "shell.execute_reply.started": "2021-09-02T03:48:03.378217Z"
    },
    "papermill": {
     "duration": 0.081918,
     "end_time": "2021-09-02T03:53:42.641528",
     "exception": false,
     "start_time": "2021-09-02T03:53:42.559610",
     "status": "completed"
    },
    "tags": []
   },
   "outputs": [
    {
     "name": "stdout",
     "output_type": "stream",
     "text": [
      "              precision    recall  f1-score   support\n",
      "\n",
      "           0       0.82      0.85      0.84       165\n",
      "           1       0.75      0.70      0.72       103\n",
      "\n",
      "    accuracy                           0.79       268\n",
      "   macro avg       0.78      0.78      0.78       268\n",
      "weighted avg       0.79      0.79      0.79       268\n",
      "\n"
     ]
    }
   ],
   "source": [
    "from sklearn.neighbors import KNeighborsClassifier\n",
    "\n",
    "model=KNeighborsClassifier(n_neighbors=3)\n",
    "\n",
    "model.fit(X,y)\n",
    "y_pred_kneigh= model.predict(X_valid)\n",
    "#print(X_test,y_pred_kneigh)\n",
    "print(classification_report(y_valid, y_pred_kneigh))"
   ]
  },
  {
   "cell_type": "code",
   "execution_count": 31,
   "id": "12a0e060",
   "metadata": {
    "execution": {
     "iopub.execute_input": "2021-09-02T03:53:42.754039Z",
     "iopub.status.busy": "2021-09-02T03:53:42.748650Z",
     "iopub.status.idle": "2021-09-02T03:53:42.983923Z",
     "shell.execute_reply": "2021-09-02T03:53:42.983229Z",
     "shell.execute_reply.started": "2021-09-02T03:48:04.483631Z"
    },
    "papermill": {
     "duration": 0.292393,
     "end_time": "2021-09-02T03:53:42.984066",
     "exception": false,
     "start_time": "2021-09-02T03:53:42.691673",
     "status": "completed"
    },
    "tags": []
   },
   "outputs": [
    {
     "name": "stdout",
     "output_type": "stream",
     "text": [
      "              precision    recall  f1-score   support\n",
      "\n",
      "           0       0.82      0.85      0.84       165\n",
      "           1       0.75      0.70      0.72       103\n",
      "\n",
      "    accuracy                           0.79       268\n",
      "   macro avg       0.78      0.78      0.78       268\n",
      "weighted avg       0.79      0.79      0.79       268\n",
      "\n"
     ]
    }
   ],
   "source": [
    "model2 = RandomForestClassifier(n_estimators=100, max_depth=5, random_state=1)\n",
    "model2.fit(X, y)\n",
    "y_pred_rndForest = model.predict(X_valid)\n",
    "print(classification_report(y_valid, y_pred_rndForest))"
   ]
  },
  {
   "cell_type": "code",
   "execution_count": 32,
   "id": "44543f40",
   "metadata": {
    "execution": {
     "iopub.execute_input": "2021-09-02T03:53:43.088536Z",
     "iopub.status.busy": "2021-09-02T03:53:43.087814Z",
     "iopub.status.idle": "2021-09-02T03:53:43.090987Z",
     "shell.execute_reply": "2021-09-02T03:53:43.090484Z",
     "shell.execute_reply.started": "2021-09-02T03:48:05.796494Z"
    },
    "papermill": {
     "duration": 0.0571,
     "end_time": "2021-09-02T03:53:43.091135",
     "exception": false,
     "start_time": "2021-09-02T03:53:43.034035",
     "status": "completed"
    },
    "tags": []
   },
   "outputs": [],
   "source": [
    "y_pred=[y_pred_clf, y_pred_kneigh, y_pred_rndForest]"
   ]
  },
  {
   "cell_type": "code",
   "execution_count": 33,
   "id": "34d59cfe",
   "metadata": {
    "execution": {
     "iopub.execute_input": "2021-09-02T03:53:43.222830Z",
     "iopub.status.busy": "2021-09-02T03:53:43.220097Z",
     "iopub.status.idle": "2021-09-02T03:53:43.424030Z",
     "shell.execute_reply": "2021-09-02T03:53:43.423410Z",
     "shell.execute_reply.started": "2021-09-02T03:48:06.998335Z"
    },
    "papermill": {
     "duration": 0.282435,
     "end_time": "2021-09-02T03:53:43.424169",
     "exception": false,
     "start_time": "2021-09-02T03:53:43.141734",
     "status": "completed"
    },
    "tags": []
   },
   "outputs": [
    {
     "data": {
      "text/plain": [
       "<AxesSubplot:title={'center':'Confusion Matrix'}, xlabel='Predicted label', ylabel='True label'>"
      ]
     },
     "execution_count": 33,
     "metadata": {},
     "output_type": "execute_result"
    },
    {
     "data": {
      "image/png": "[encoded data removed]",
      "text/plain": [
       "<Figure size 576x396 with 2 Axes>"
      ]
     },
     "metadata": {},
     "output_type": "display_data"
    }
   ],
   "source": [
    "plot_confusion_matrix(y_valid, y_pred[0])"
   ]
  },
  {
   "cell_type": "code",
   "execution_count": 34,
   "id": "91b4848f",
   "metadata": {
    "execution": {
     "iopub.execute_input": "2021-09-02T03:53:43.553583Z",
     "iopub.status.busy": "2021-09-02T03:53:43.552917Z",
     "iopub.status.idle": "2021-09-02T03:53:43.757530Z",
     "shell.execute_reply": "2021-09-02T03:53:43.756901Z",
     "shell.execute_reply.started": "2021-09-02T03:48:07.779823Z"
    },
    "papermill": {
     "duration": 0.282311,
     "end_time": "2021-09-02T03:53:43.757759",
     "exception": false,
     "start_time": "2021-09-02T03:53:43.475448",
     "status": "completed"
    },
    "tags": []
   },
   "outputs": [
    {
     "data": {
      "text/plain": [
       "<AxesSubplot:title={'center':'Confusion Matrix'}, xlabel='Predicted label', ylabel='True label'>"
      ]
     },
     "execution_count": 34,
     "metadata": {},
     "output_type": "execute_result"
    },
    {
     "data": {
      "image/png": "[encoded data removed]",
      "text/plain": [
       "<Figure size 576x396 with 2 Axes>"
      ]
     },
     "metadata": {},
     "output_type": "display_data"
    }
   ],
   "source": [
    "plot_confusion_matrix(y_valid, y_pred[1])"
   ]
  },
  {
   "cell_type": "code",
   "execution_count": 35,
   "id": "159c13ec",
   "metadata": {
    "execution": {
     "iopub.execute_input": "2021-09-02T03:53:43.883649Z",
     "iopub.status.busy": "2021-09-02T03:53:43.882780Z",
     "iopub.status.idle": "2021-09-02T03:53:43.886109Z",
     "shell.execute_reply": "2021-09-02T03:53:43.886622Z",
     "shell.execute_reply.started": "2021-09-02T03:51:12.319341Z"
    },
    "papermill": {
     "duration": 0.074188,
     "end_time": "2021-09-02T03:53:43.887367",
     "exception": false,
     "start_time": "2021-09-02T03:53:43.813179",
     "status": "completed"
    },
    "tags": []
   },
   "outputs": [
    {
     "name": "stdout",
     "output_type": "stream",
     "text": [
      "<class 'pandas.core.frame.DataFrame'>\n",
      "RangeIndex: 418 entries, 0 to 417\n",
      "Data columns (total 5 columns):\n",
      " #   Column   Non-Null Count  Dtype  \n",
      "---  ------   --------------  -----  \n",
      " 0   Pclass   418 non-null    int64  \n",
      " 1   SibSp    418 non-null    int64  \n",
      " 2   Parch    418 non-null    int64  \n",
      " 3   Age_imp  418 non-null    float64\n",
      " 4   Fare     417 non-null    float64\n",
      "dtypes: float64(2), int64(3)\n",
      "memory usage: 16.5 KB\n"
     ]
    }
   ],
   "source": [
    "X_test.info()"
   ]
  },
  {
   "cell_type": "code",
   "execution_count": 36,
   "id": "5bd46843",
   "metadata": {
    "execution": {
     "iopub.execute_input": "2021-09-02T03:53:44.006856Z",
     "iopub.status.busy": "2021-09-02T03:53:44.005591Z",
     "iopub.status.idle": "2021-09-02T03:53:44.009151Z",
     "shell.execute_reply": "2021-09-02T03:53:44.008482Z",
     "shell.execute_reply.started": "2021-09-02T03:52:56.076895Z"
    },
    "papermill": {
     "duration": 0.066079,
     "end_time": "2021-09-02T03:53:44.009298",
     "exception": false,
     "start_time": "2021-09-02T03:53:43.943219",
     "status": "completed"
    },
    "tags": []
   },
   "outputs": [],
   "source": [
    "X_test = X_test.fillna(X_test.mean())"
   ]
  },
  {
   "cell_type": "code",
   "execution_count": 37,
   "id": "ffc5cff7",
   "metadata": {
    "execution": {
     "iopub.execute_input": "2021-09-02T03:53:44.121777Z",
     "iopub.status.busy": "2021-09-02T03:53:44.120774Z",
     "iopub.status.idle": "2021-09-02T03:53:44.134603Z",
     "shell.execute_reply": "2021-09-02T03:53:44.135057Z",
     "shell.execute_reply.started": "2021-09-02T03:53:03.090831Z"
    },
    "papermill": {
     "duration": 0.071737,
     "end_time": "2021-09-02T03:53:44.135239",
     "exception": false,
     "start_time": "2021-09-02T03:53:44.063502",
     "status": "completed"
    },
    "tags": []
   },
   "outputs": [
    {
     "name": "stdout",
     "output_type": "stream",
     "text": [
      "<class 'pandas.core.frame.DataFrame'>\n",
      "RangeIndex: 418 entries, 0 to 417\n",
      "Data columns (total 5 columns):\n",
      " #   Column   Non-Null Count  Dtype  \n",
      "---  ------   --------------  -----  \n",
      " 0   Pclass   418 non-null    int64  \n",
      " 1   SibSp    418 non-null    int64  \n",
      " 2   Parch    418 non-null    int64  \n",
      " 3   Age_imp  418 non-null    float64\n",
      " 4   Fare     418 non-null    float64\n",
      "dtypes: float64(2), int64(3)\n",
      "memory usage: 16.5 KB\n"
     ]
    }
   ],
   "source": [
    "X_test.info()"
   ]
  },
  {
   "cell_type": "code",
   "execution_count": 38,
   "id": "c758fc6c",
   "metadata": {
    "execution": {
     "iopub.execute_input": "2021-09-02T03:53:44.257592Z",
     "iopub.status.busy": "2021-09-02T03:53:44.256528Z",
     "iopub.status.idle": "2021-09-02T03:53:44.479140Z",
     "shell.execute_reply": "2021-09-02T03:53:44.478647Z",
     "shell.execute_reply.started": "2021-09-02T03:48:08.896325Z"
    },
    "papermill": {
     "duration": 0.29031,
     "end_time": "2021-09-02T03:53:44.479286",
     "exception": false,
     "start_time": "2021-09-02T03:53:44.188976",
     "status": "completed"
    },
    "tags": []
   },
   "outputs": [
    {
     "data": {
      "text/plain": [
       "<AxesSubplot:title={'center':'Confusion Matrix'}, xlabel='Predicted label', ylabel='True label'>"
      ]
     },
     "execution_count": 38,
     "metadata": {},
     "output_type": "execute_result"
    },
    {
     "data": {
      "image/png": "[encoded data removed]",
      "text/plain": [
       "<Figure size 576x396 with 2 Axes>"
      ]
     },
     "metadata": {},
     "output_type": "display_data"
    }
   ],
   "source": [
    "plot_confusion_matrix(y_valid, y_pred[2])"
   ]
  },
  {
   "cell_type": "code",
   "execution_count": 39,
   "id": "237b4852",
   "metadata": {
    "execution": {
     "iopub.execute_input": "2021-09-02T03:53:44.599709Z",
     "iopub.status.busy": "2021-09-02T03:53:44.598685Z",
     "iopub.status.idle": "2021-09-02T03:53:44.637768Z",
     "shell.execute_reply": "2021-09-02T03:53:44.637191Z",
     "shell.execute_reply.started": "2021-09-02T03:53:10.128536Z"
    },
    "papermill": {
     "duration": 0.103852,
     "end_time": "2021-09-02T03:53:44.637910",
     "exception": false,
     "start_time": "2021-09-02T03:53:44.534058",
     "status": "completed"
    },
    "tags": []
   },
   "outputs": [],
   "source": [
    "y_pred_clf = clf.predict(X_test)\n",
    "y_pred_kneigh= model.predict(X_test)\n",
    "y_pred_rndForest = model.predict(X_test)"
   ]
  },
  {
   "cell_type": "code",
   "execution_count": 40,
   "id": "fb250bc8",
   "metadata": {
    "execution": {
     "iopub.execute_input": "2021-09-02T03:53:44.753089Z",
     "iopub.status.busy": "2021-09-02T03:53:44.752100Z",
     "iopub.status.idle": "2021-09-02T03:53:44.760297Z",
     "shell.execute_reply": "2021-09-02T03:53:44.759708Z",
     "shell.execute_reply.started": "2021-09-02T03:53:13.215389Z"
    },
    "papermill": {
     "duration": 0.068232,
     "end_time": "2021-09-02T03:53:44.760467",
     "exception": false,
     "start_time": "2021-09-02T03:53:44.692235",
     "status": "completed"
    },
    "tags": []
   },
   "outputs": [
    {
     "name": "stdout",
     "output_type": "stream",
     "text": [
      "Your submission was successfully saved!\n"
     ]
    }
   ],
   "source": [
    "#plot_confusion_matrix(y_train2, y_pred)\n",
    "\n",
    "output = pd.DataFrame({'PassengerId': test_data.PassengerId, 'Survived': y_pred_kneigh})\n",
    "output.to_csv('my_submission.csv', index=False)\n",
    "print(\"Your submission was successfully saved!\")"
   ]
  },
  {
   "cell_type": "code",
   "execution_count": null,
   "id": "0cb4c393",
   "metadata": {
    "papermill": {
     "duration": 0.054097,
     "end_time": "2021-09-02T03:53:44.869145",
     "exception": false,
     "start_time": "2021-09-02T03:53:44.815048",
     "status": "completed"
    },
    "tags": []
   },
   "outputs": [],
   "source": []
  },
  {
   "cell_type": "code",
   "execution_count": null,
   "id": "cd61840f",
   "metadata": {
    "papermill": {
     "duration": 0.055434,
     "end_time": "2021-09-02T03:53:44.979207",
     "exception": false,
     "start_time": "2021-09-02T03:53:44.923773",
     "status": "completed"
    },
    "tags": []
   },
   "outputs": [],
   "source": []
  }
 ],
 "metadata": {
  "kernelspec": {
   "display_name": "Python 3",
   "language": "python",
   "name": "python3"
  },
  "language_info": {
   "codemirror_mode": {
    "name": "ipython",
    "version": 3
   },
   "file_extension": ".py",
   "mimetype": "text/x-python",
   "name": "python",
   "nbconvert_exporter": "python",
   "pygments_lexer": "ipython3",
   "version": "3.7.10"
  },
  "papermill": {
   "default_parameters": {},
   "duration": 18.91148,
   "end_time": "2021-09-02T03:53:46.552284",
   "environment_variables": {},
   "exception": null,
   "input_path": "__notebook__.ipynb",
   "output_path": "__notebook__.ipynb",
   "parameters": {},
   "start_time": "2021-09-02T03:53:27.640804",
   "version": "2.3.3"
  }
 },
 "nbformat": 4,
 "nbformat_minor": 5
}
